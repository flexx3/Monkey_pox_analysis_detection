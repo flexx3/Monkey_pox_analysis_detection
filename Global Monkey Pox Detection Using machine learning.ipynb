{
 "cells": [
  {
   "cell_type": "code",
   "execution_count": 2,
   "id": "000e54b7",
   "metadata": {},
   "outputs": [],
   "source": [
    "#import libraries\n",
    "import pandas as pd\n",
    "import matplotlib.pyplot as plt\n",
    "import seaborn as sns\n",
    "import plotly.express as px\n",
    "from category_encoders import OneHotEncoder, OrdinalEncoder\n",
    "from sklearn.model_selection import train_test_split,GridSearchCV, cross_val_score\n",
    "from sklearn.ensemble import RandomForestClassifier\n",
    "from sklearn.tree import DecisionTreeClassifier\n",
    "from sklearn.metrics import(ConfusionMatrixDisplay,\n",
    "                           classification_report,\n",
    "                           confusion_matrix) \n",
    "from imblearn.over_sampling import RandomOverSampler \n",
    "from imblearn.under_sampling import RandomUnderSampler\n",
    "from sklearn.pipeline import make_pipeline"
   ]
  },
  {
   "cell_type": "code",
   "execution_count": 15,
   "id": "8279b635",
   "metadata": {},
   "outputs": [],
   "source": [
    "#Generate wrangle function\n",
    "def wrangle(filepath):\n",
    "    #read csv file and set index to ID\n",
    "    df = pd.read_csv(filepath, low_memory=False)\n",
    "    #drop unwanted  URL columns\n",
    "    df.drop(columns=[\"Source\",\"Source_II\",\"Source_III\",\"Source_IV\",\"Source_V\",\"Source_VI\",\"Source_VII\"], inplace=True)\n",
    "    #drop insignificant columns with extremely high null values and high autocorrelation\n",
    "    df.drop(columns=[\"Genomics_Metadata\",\"Country_ISO3\",\"City\",\"Date_onset\",\"Hospitalised (Y/N/NA)\",\n",
    "                     \"Date_hospitalisation\",\"Isolated (Y/N/NA)\",\"Date_isolation\",\n",
    "                     \"Outcome\",\"Contact_comment\",\"Contact_ID\",\"Contact_location\",\n",
    "                     \"Date_death\",\"Travel_history_entry\",\"Travel_history_start\",\"ID\", \"Location\", \"Travel_history_location\"], inplace=True)\n",
    "    #drop rows contontaining https://www.publichealthontario.ca/-/media/Documents/M/2022/monkeypox-episummary.pdf?sc_lang=en\"\n",
    "    df.drop(df.index[df[\"Status\"]==\"https://www.publichealthontario.ca/-/media/Documents/M/2022/monkeypox-episummary.pdf?sc_lang=en\"], inplace=True)\n",
    "    #drop rows with extreme null values ie rows containing status == omit_error\n",
    "    df.drop(df.index[df[\"Status\"]==\"omit_error\"], inplace=True)\n",
    "    #drop rows containing discarded cases of monkeypox\n",
    "    df.drop(df.index[df[\"Status\"]==\"discarded\"], inplace=True)\n",
    "    df.drop(df.index[df[\"Gender\"]==\"2022-06-03\"], inplace=True)\n",
    "    #fill null values according to the mode of suspected  and confirmed cases\n",
    "    df[\"Status\"] = df[\"Status\"].fillna(\"confirmed\")\n",
    "    df.loc[df[\"Status\"]==\"confirmed\"] = df.loc[df[\"Status\"]==\"confirmed\"].fillna({\"Symptoms\":df.Symptoms.mode()[0],\n",
    "                                                                                 \"Gender\":df.Gender.mode()[0],\n",
    "                                                                                 \"Age\":df.Age.mode()[0],\n",
    "                                                                                 \"Confirmation_method\":df.Confirmation_method.mode()[0]})\n",
    "    df.loc[df[\"Status\"]==\"suspected\"] = df.loc[df[\"Status\"]==\"suspected\"].fillna({\"Symptoms\":\"rash, fever\",\n",
    "                                                                                 \"Age\":\"0-39\",\n",
    "                                                                                 \"Gender\":\"Female\",\n",
    "                                                                                 \"Confirmation_method\":df.Confirmation_method.mode()[0]})\n",
    "    #fill null values for all other columns\n",
    "    df[\"Travel_history (Y/N/NA)\"] = df[\"Travel_history (Y/N/NA)\"].fillna(\"Y\")\n",
    "    df[\"Country\"] = df[\"Country\"].fillna(df[\"Country\"].mode()[0])\n",
    "    df[\"Travel_history_country\"] = df[\"Travel_history_country\"].fillna(df[\"Travel_history_country\"].mode()[0])\n",
    "    df[\"Date_last_modified\"] = df[\"Date_last_modified\"].fillna(df[\"Date_last_modified\"].mode()[0])\n",
    "    df[\"Date_confirmation\"] = df[\"Date_confirmation\"].fillna(df[\"Date_confirmation\"].mode()[0])\n",
    "    df[\"Date_entry\"] = df[\"Date_entry\"].fillna(df[\"Date_entry\"].mode()[0])\n",
    "    #convert time series object to datetime\n",
    "    #df[\"Date_last_modified\"] = pd.to_datetime(df[\"Date_last_modified\"], format=\"%Y-%m-%d\")\n",
    "    #df[\"Date_confirmation\"] = pd.to_datetime(df[\"Date_confirmation\"], format=\"%Y-%m-%d\")\n",
    "    #df[\"Date_entry\"] = pd.to_datetime(df[\"Date_entry\"], format=\"%Y-%m-%d\")\n",
    "\n",
    "\n",
    "   #drop duplicate rows\n",
    "    df.drop_duplicates(keep=\"first\",inplace=True)\n",
    "\n",
    "\n",
    "    return df"
   ]
  },
  {
   "cell_type": "code",
   "execution_count": 16,
   "id": "1cf78561",
   "metadata": {},
   "outputs": [],
   "source": [
    "df = wrangle(\"Monkeypox_df.csv\")"
   ]
  },
  {
   "cell_type": "code",
   "execution_count": 17,
   "id": "471f8231",
   "metadata": {},
   "outputs": [
    {
     "data": {
      "text/html": [
       "<div>\n",
       "<style scoped>\n",
       "    .dataframe tbody tr th:only-of-type {\n",
       "        vertical-align: middle;\n",
       "    }\n",
       "\n",
       "    .dataframe tbody tr th {\n",
       "        vertical-align: top;\n",
       "    }\n",
       "\n",
       "    .dataframe thead th {\n",
       "        text-align: right;\n",
       "    }\n",
       "</style>\n",
       "<table border=\"1\" class=\"dataframe\">\n",
       "  <thead>\n",
       "    <tr style=\"text-align: right;\">\n",
       "      <th></th>\n",
       "      <th>Status</th>\n",
       "      <th>Country</th>\n",
       "      <th>Age</th>\n",
       "      <th>Gender</th>\n",
       "      <th>Date_confirmation</th>\n",
       "      <th>Symptoms</th>\n",
       "      <th>Travel_history (Y/N/NA)</th>\n",
       "      <th>Travel_history_country</th>\n",
       "      <th>Confirmation_method</th>\n",
       "      <th>Date_entry</th>\n",
       "      <th>Date_last_modified</th>\n",
       "    </tr>\n",
       "  </thead>\n",
       "  <tbody>\n",
       "    <tr>\n",
       "      <th>0</th>\n",
       "      <td>confirmed</td>\n",
       "      <td>England</td>\n",
       "      <td>20-69</td>\n",
       "      <td>Male</td>\n",
       "      <td>2022-05-06</td>\n",
       "      <td>rash</td>\n",
       "      <td>Y</td>\n",
       "      <td>Nigeria</td>\n",
       "      <td>RT-PCR</td>\n",
       "      <td>2022-05-18</td>\n",
       "      <td>2022-05-18</td>\n",
       "    </tr>\n",
       "    <tr>\n",
       "      <th>1</th>\n",
       "      <td>confirmed</td>\n",
       "      <td>England</td>\n",
       "      <td>20-69</td>\n",
       "      <td>Male</td>\n",
       "      <td>2022-05-12</td>\n",
       "      <td>rash</td>\n",
       "      <td>N</td>\n",
       "      <td>Spain</td>\n",
       "      <td>RT-PCR</td>\n",
       "      <td>2022-05-18</td>\n",
       "      <td>2022-05-18</td>\n",
       "    </tr>\n",
       "    <tr>\n",
       "      <th>2</th>\n",
       "      <td>confirmed</td>\n",
       "      <td>England</td>\n",
       "      <td>20-69</td>\n",
       "      <td>Male</td>\n",
       "      <td>2022-05-13</td>\n",
       "      <td>vesicular rash</td>\n",
       "      <td>N</td>\n",
       "      <td>Spain</td>\n",
       "      <td>RT-PCR</td>\n",
       "      <td>2022-05-18</td>\n",
       "      <td>2022-05-18</td>\n",
       "    </tr>\n",
       "    <tr>\n",
       "      <th>3</th>\n",
       "      <td>confirmed</td>\n",
       "      <td>England</td>\n",
       "      <td>20-69</td>\n",
       "      <td>Male</td>\n",
       "      <td>2022-05-15</td>\n",
       "      <td>vesicular rash</td>\n",
       "      <td>N</td>\n",
       "      <td>Spain</td>\n",
       "      <td>RT-PCR</td>\n",
       "      <td>2022-05-18</td>\n",
       "      <td>2022-05-18</td>\n",
       "    </tr>\n",
       "    <tr>\n",
       "      <th>6</th>\n",
       "      <td>confirmed</td>\n",
       "      <td>England</td>\n",
       "      <td>20-69</td>\n",
       "      <td>Male</td>\n",
       "      <td>2022-05-15</td>\n",
       "      <td>vesicular rash</td>\n",
       "      <td>Y</td>\n",
       "      <td>England</td>\n",
       "      <td>RT-PCR</td>\n",
       "      <td>2022-05-18</td>\n",
       "      <td>2022-05-18</td>\n",
       "    </tr>\n",
       "  </tbody>\n",
       "</table>\n",
       "</div>"
      ],
      "text/plain": [
       "      Status  Country    Age Gender Date_confirmation        Symptoms  \\\n",
       "0  confirmed  England  20-69   Male        2022-05-06            rash   \n",
       "1  confirmed  England  20-69   Male        2022-05-12            rash   \n",
       "2  confirmed  England  20-69   Male        2022-05-13  vesicular rash   \n",
       "3  confirmed  England  20-69   Male        2022-05-15  vesicular rash   \n",
       "6  confirmed  England  20-69   Male        2022-05-15  vesicular rash   \n",
       "\n",
       "  Travel_history (Y/N/NA) Travel_history_country Confirmation_method  \\\n",
       "0                       Y                Nigeria              RT-PCR   \n",
       "1                       N                  Spain              RT-PCR   \n",
       "2                       N                  Spain              RT-PCR   \n",
       "3                       N                  Spain              RT-PCR   \n",
       "6                       Y                England              RT-PCR   \n",
       "\n",
       "   Date_entry Date_last_modified  \n",
       "0  2022-05-18         2022-05-18  \n",
       "1  2022-05-18         2022-05-18  \n",
       "2  2022-05-18         2022-05-18  \n",
       "3  2022-05-18         2022-05-18  \n",
       "6  2022-05-18         2022-05-18  "
      ]
     },
     "execution_count": 17,
     "metadata": {},
     "output_type": "execute_result"
    }
   ],
   "source": [
    "df.head()"
   ]
  },
  {
   "cell_type": "code",
   "execution_count": 18,
   "id": "75096a45",
   "metadata": {},
   "outputs": [],
   "source": [
    "#get train and test data \n",
    "target = \"Status\"\n",
    "X = df.drop(columns=\"Status\")\n",
    "y = df[target]"
   ]
  },
  {
   "cell_type": "code",
   "execution_count": 19,
   "id": "417055b2",
   "metadata": {},
   "outputs": [
    {
     "data": {
      "text/plain": [
       "(2004, 10)"
      ]
     },
     "execution_count": 19,
     "metadata": {},
     "output_type": "execute_result"
    }
   ],
   "source": [
    "X.shape"
   ]
  },
  {
   "cell_type": "code",
   "execution_count": 20,
   "id": "a99d2bdb",
   "metadata": {},
   "outputs": [
    {
     "data": {
      "text/plain": [
       "(2004,)"
      ]
     },
     "execution_count": 20,
     "metadata": {},
     "output_type": "execute_result"
    }
   ],
   "source": [
    "y.shape"
   ]
  },
  {
   "cell_type": "code",
   "execution_count": 21,
   "id": "da48f1a9",
   "metadata": {},
   "outputs": [],
   "source": [
    "#perform train test split\n",
    "X_train, X_test, y_train, y_test = train_test_split(X, y, test_size=0.3, random_state=42)"
   ]
  },
  {
   "cell_type": "code",
   "execution_count": 22,
   "id": "71502ef3",
   "metadata": {},
   "outputs": [],
   "source": [
    "#Resample data due to imbalance\n",
    "Undersampler = RandomUnderSampler(random_state=42)\n",
    "X_train_under, y_train_under = Undersampler.fit_resample(X_train, y_train)\n",
    "Oversampler = RandomOverSampler(random_state=42)\n",
    "X_train_over, y_train_over = Oversampler.fit_resample(X_train, y_train)"
   ]
  },
  {
   "cell_type": "code",
   "execution_count": 23,
   "id": "4cf6ff17",
   "metadata": {},
   "outputs": [
    {
     "name": "stdout",
     "output_type": "stream",
     "text": [
      "class balance for over sampled data: confirmed    0.5\n",
      "suspected    0.5\n",
      "Name: Status, dtype: float64\n",
      "class balance for undersampled data: confirmed    0.5\n",
      "suspected    0.5\n",
      "Name: Status, dtype: float64\n"
     ]
    }
   ],
   "source": [
    "#check class balance between oversampled and undersampled data\n",
    "print(\"class balance for over sampled data:\",y_train_over.value_counts(normalize=True))\n",
    "print(\"class balance for undersampled data:\",y_train_under.value_counts(normalize=True))"
   ]
  },
  {
   "cell_type": "code",
   "execution_count": 24,
   "id": "9fc49f82",
   "metadata": {},
   "outputs": [
    {
     "name": "stdout",
     "output_type": "stream",
     "text": [
      "baseline score: 0.978601997146933\n"
     ]
    }
   ],
   "source": [
    "#build baseline model\n",
    "acc_baseline = y_train.value_counts(normalize=True).max()\n",
    "print(\"baseline score:\", acc_baseline)"
   ]
  },
  {
   "cell_type": "code",
   "execution_count": 25,
   "id": "d748a4d8",
   "metadata": {},
   "outputs": [
    {
     "data": {
      "text/html": [
       "<style>#sk-container-id-1 {color: black;background-color: white;}#sk-container-id-1 pre{padding: 0;}#sk-container-id-1 div.sk-toggleable {background-color: white;}#sk-container-id-1 label.sk-toggleable__label {cursor: pointer;display: block;width: 100%;margin-bottom: 0;padding: 0.3em;box-sizing: border-box;text-align: center;}#sk-container-id-1 label.sk-toggleable__label-arrow:before {content: \"▸\";float: left;margin-right: 0.25em;color: #696969;}#sk-container-id-1 label.sk-toggleable__label-arrow:hover:before {color: black;}#sk-container-id-1 div.sk-estimator:hover label.sk-toggleable__label-arrow:before {color: black;}#sk-container-id-1 div.sk-toggleable__content {max-height: 0;max-width: 0;overflow: hidden;text-align: left;background-color: #f0f8ff;}#sk-container-id-1 div.sk-toggleable__content pre {margin: 0.2em;color: black;border-radius: 0.25em;background-color: #f0f8ff;}#sk-container-id-1 input.sk-toggleable__control:checked~div.sk-toggleable__content {max-height: 200px;max-width: 100%;overflow: auto;}#sk-container-id-1 input.sk-toggleable__control:checked~label.sk-toggleable__label-arrow:before {content: \"▾\";}#sk-container-id-1 div.sk-estimator input.sk-toggleable__control:checked~label.sk-toggleable__label {background-color: #d4ebff;}#sk-container-id-1 div.sk-label input.sk-toggleable__control:checked~label.sk-toggleable__label {background-color: #d4ebff;}#sk-container-id-1 input.sk-hidden--visually {border: 0;clip: rect(1px 1px 1px 1px);clip: rect(1px, 1px, 1px, 1px);height: 1px;margin: -1px;overflow: hidden;padding: 0;position: absolute;width: 1px;}#sk-container-id-1 div.sk-estimator {font-family: monospace;background-color: #f0f8ff;border: 1px dotted black;border-radius: 0.25em;box-sizing: border-box;margin-bottom: 0.5em;}#sk-container-id-1 div.sk-estimator:hover {background-color: #d4ebff;}#sk-container-id-1 div.sk-parallel-item::after {content: \"\";width: 100%;border-bottom: 1px solid gray;flex-grow: 1;}#sk-container-id-1 div.sk-label:hover label.sk-toggleable__label {background-color: #d4ebff;}#sk-container-id-1 div.sk-serial::before {content: \"\";position: absolute;border-left: 1px solid gray;box-sizing: border-box;top: 0;bottom: 0;left: 50%;z-index: 0;}#sk-container-id-1 div.sk-serial {display: flex;flex-direction: column;align-items: center;background-color: white;padding-right: 0.2em;padding-left: 0.2em;position: relative;}#sk-container-id-1 div.sk-item {position: relative;z-index: 1;}#sk-container-id-1 div.sk-parallel {display: flex;align-items: stretch;justify-content: center;background-color: white;position: relative;}#sk-container-id-1 div.sk-item::before, #sk-container-id-1 div.sk-parallel-item::before {content: \"\";position: absolute;border-left: 1px solid gray;box-sizing: border-box;top: 0;bottom: 0;left: 50%;z-index: -1;}#sk-container-id-1 div.sk-parallel-item {display: flex;flex-direction: column;z-index: 1;position: relative;background-color: white;}#sk-container-id-1 div.sk-parallel-item:first-child::after {align-self: flex-end;width: 50%;}#sk-container-id-1 div.sk-parallel-item:last-child::after {align-self: flex-start;width: 50%;}#sk-container-id-1 div.sk-parallel-item:only-child::after {width: 0;}#sk-container-id-1 div.sk-dashed-wrapped {border: 1px dashed gray;margin: 0 0.4em 0.5em 0.4em;box-sizing: border-box;padding-bottom: 0.4em;background-color: white;}#sk-container-id-1 div.sk-label label {font-family: monospace;font-weight: bold;display: inline-block;line-height: 1.2em;}#sk-container-id-1 div.sk-label-container {text-align: center;}#sk-container-id-1 div.sk-container {/* jupyter's `normalize.less` sets `[hidden] { display: none; }` but bootstrap.min.css set `[hidden] { display: none !important; }` so we also need the `!important` here to be able to override the default hidden behavior on the sphinx rendered scikit-learn.org. See: https://github.com/scikit-learn/scikit-learn/issues/21755 */display: inline-block !important;position: relative;}#sk-container-id-1 div.sk-text-repr-fallback {display: none;}</style><div id=\"sk-container-id-1\" class=\"sk-top-container\"><div class=\"sk-text-repr-fallback\"><pre>Pipeline(steps=[(&#x27;ordinalencoder&#x27;,\n",
       "                 OrdinalEncoder(cols=[&#x27;Country&#x27;, &#x27;Age&#x27;, &#x27;Gender&#x27;,\n",
       "                                      &#x27;Date_confirmation&#x27;, &#x27;Symptoms&#x27;,\n",
       "                                      &#x27;Travel_history (Y/N/NA)&#x27;,\n",
       "                                      &#x27;Travel_history_country&#x27;,\n",
       "                                      &#x27;Confirmation_method&#x27;, &#x27;Date_entry&#x27;,\n",
       "                                      &#x27;Date_last_modified&#x27;],\n",
       "                                mapping=[{&#x27;col&#x27;: &#x27;Country&#x27;,\n",
       "                                          &#x27;data_type&#x27;: dtype(&#x27;O&#x27;),\n",
       "                                          &#x27;mapping&#x27;: Italy                                1\n",
       "Slovenia                             2\n",
       "Honduras                             3\n",
       "Spain                                4\n",
       "Portugal                             5\n",
       "Ireland                              6\n",
       "Czech Republic                       7\n",
       "United States...\n",
       "2022-07-07    18\n",
       "2022-08-23    19\n",
       "2022-06-21    20\n",
       "2022-06-29    21\n",
       "2022-07-19    22\n",
       "2022-08-24    23\n",
       "2022-07-14    24\n",
       "2022-05-18    25\n",
       "2022-08-02    26\n",
       "2022-07-27    27\n",
       "2022-08-16    28\n",
       "2022-07-28    29\n",
       "2022-06-11    30\n",
       "2022-07-29    31\n",
       "2022-07-18    32\n",
       "2022-07-20    33\n",
       "2022-06-04    34\n",
       "2022-05-29    35\n",
       "2022-08-19    36\n",
       "2022-05-26    37\n",
       "2022-07-21    38\n",
       "2022-06-03    39\n",
       "NaN           -2\n",
       "dtype: int64}])),\n",
       "                (&#x27;decisiontreeclassifier&#x27;,\n",
       "                 DecisionTreeClassifier(random_state=42))])</pre><b>In a Jupyter environment, please rerun this cell to show the HTML representation or trust the notebook. <br />On GitHub, the HTML representation is unable to render, please try loading this page with nbviewer.org.</b></div><div class=\"sk-container\" hidden><div class=\"sk-item sk-dashed-wrapped\"><div class=\"sk-label-container\"><div class=\"sk-label sk-toggleable\"><input class=\"sk-toggleable__control sk-hidden--visually\" id=\"sk-estimator-id-1\" type=\"checkbox\" ><label for=\"sk-estimator-id-1\" class=\"sk-toggleable__label sk-toggleable__label-arrow\">Pipeline</label><div class=\"sk-toggleable__content\"><pre>Pipeline(steps=[(&#x27;ordinalencoder&#x27;,\n",
       "                 OrdinalEncoder(cols=[&#x27;Country&#x27;, &#x27;Age&#x27;, &#x27;Gender&#x27;,\n",
       "                                      &#x27;Date_confirmation&#x27;, &#x27;Symptoms&#x27;,\n",
       "                                      &#x27;Travel_history (Y/N/NA)&#x27;,\n",
       "                                      &#x27;Travel_history_country&#x27;,\n",
       "                                      &#x27;Confirmation_method&#x27;, &#x27;Date_entry&#x27;,\n",
       "                                      &#x27;Date_last_modified&#x27;],\n",
       "                                mapping=[{&#x27;col&#x27;: &#x27;Country&#x27;,\n",
       "                                          &#x27;data_type&#x27;: dtype(&#x27;O&#x27;),\n",
       "                                          &#x27;mapping&#x27;: Italy                                1\n",
       "Slovenia                             2\n",
       "Honduras                             3\n",
       "Spain                                4\n",
       "Portugal                             5\n",
       "Ireland                              6\n",
       "Czech Republic                       7\n",
       "United States...\n",
       "2022-07-07    18\n",
       "2022-08-23    19\n",
       "2022-06-21    20\n",
       "2022-06-29    21\n",
       "2022-07-19    22\n",
       "2022-08-24    23\n",
       "2022-07-14    24\n",
       "2022-05-18    25\n",
       "2022-08-02    26\n",
       "2022-07-27    27\n",
       "2022-08-16    28\n",
       "2022-07-28    29\n",
       "2022-06-11    30\n",
       "2022-07-29    31\n",
       "2022-07-18    32\n",
       "2022-07-20    33\n",
       "2022-06-04    34\n",
       "2022-05-29    35\n",
       "2022-08-19    36\n",
       "2022-05-26    37\n",
       "2022-07-21    38\n",
       "2022-06-03    39\n",
       "NaN           -2\n",
       "dtype: int64}])),\n",
       "                (&#x27;decisiontreeclassifier&#x27;,\n",
       "                 DecisionTreeClassifier(random_state=42))])</pre></div></div></div><div class=\"sk-serial\"><div class=\"sk-item\"><div class=\"sk-estimator sk-toggleable\"><input class=\"sk-toggleable__control sk-hidden--visually\" id=\"sk-estimator-id-2\" type=\"checkbox\" ><label for=\"sk-estimator-id-2\" class=\"sk-toggleable__label sk-toggleable__label-arrow\">OrdinalEncoder</label><div class=\"sk-toggleable__content\"><pre>OrdinalEncoder(cols=[&#x27;Country&#x27;, &#x27;Age&#x27;, &#x27;Gender&#x27;, &#x27;Date_confirmation&#x27;,\n",
       "                     &#x27;Symptoms&#x27;, &#x27;Travel_history (Y/N/NA)&#x27;,\n",
       "                     &#x27;Travel_history_country&#x27;, &#x27;Confirmation_method&#x27;,\n",
       "                     &#x27;Date_entry&#x27;, &#x27;Date_last_modified&#x27;],\n",
       "               mapping=[{&#x27;col&#x27;: &#x27;Country&#x27;, &#x27;data_type&#x27;: dtype(&#x27;O&#x27;),\n",
       "                         &#x27;mapping&#x27;: Italy                                1\n",
       "Slovenia                             2\n",
       "Honduras                             3\n",
       "Spain                                4\n",
       "Portugal                             5\n",
       "Ireland                              6\n",
       "Czech Republic                       7\n",
       "United States                        8\n",
       "Chile                                9\n",
       "Netherlands                         10\n",
       "Israel                              11\n",
       "Puerto...\n",
       "2022-06-10    12\n",
       "2022-08-12    13\n",
       "2022-06-06    14\n",
       "2022-08-01    15\n",
       "2022-08-03    16\n",
       "2022-05-27    17\n",
       "2022-07-07    18\n",
       "2022-08-23    19\n",
       "2022-06-21    20\n",
       "2022-06-29    21\n",
       "2022-07-19    22\n",
       "2022-08-24    23\n",
       "2022-07-14    24\n",
       "2022-05-18    25\n",
       "2022-08-02    26\n",
       "2022-07-27    27\n",
       "2022-08-16    28\n",
       "2022-07-28    29\n",
       "2022-06-11    30\n",
       "2022-07-29    31\n",
       "2022-07-18    32\n",
       "2022-07-20    33\n",
       "2022-06-04    34\n",
       "2022-05-29    35\n",
       "2022-08-19    36\n",
       "2022-05-26    37\n",
       "2022-07-21    38\n",
       "2022-06-03    39\n",
       "NaN           -2\n",
       "dtype: int64}])</pre></div></div></div><div class=\"sk-item\"><div class=\"sk-estimator sk-toggleable\"><input class=\"sk-toggleable__control sk-hidden--visually\" id=\"sk-estimator-id-3\" type=\"checkbox\" ><label for=\"sk-estimator-id-3\" class=\"sk-toggleable__label sk-toggleable__label-arrow\">DecisionTreeClassifier</label><div class=\"sk-toggleable__content\"><pre>DecisionTreeClassifier(random_state=42)</pre></div></div></div></div></div></div></div>"
      ],
      "text/plain": [
       "Pipeline(steps=[('ordinalencoder',\n",
       "                 OrdinalEncoder(cols=['Country', 'Age', 'Gender',\n",
       "                                      'Date_confirmation', 'Symptoms',\n",
       "                                      'Travel_history (Y/N/NA)',\n",
       "                                      'Travel_history_country',\n",
       "                                      'Confirmation_method', 'Date_entry',\n",
       "                                      'Date_last_modified'],\n",
       "                                mapping=[{'col': 'Country',\n",
       "                                          'data_type': dtype('O'),\n",
       "                                          'mapping': Italy                                1\n",
       "Slovenia                             2\n",
       "Honduras                             3\n",
       "Spain                                4\n",
       "Portugal                             5\n",
       "Ireland                              6\n",
       "Czech Republic                       7\n",
       "United States...\n",
       "2022-07-07    18\n",
       "2022-08-23    19\n",
       "2022-06-21    20\n",
       "2022-06-29    21\n",
       "2022-07-19    22\n",
       "2022-08-24    23\n",
       "2022-07-14    24\n",
       "2022-05-18    25\n",
       "2022-08-02    26\n",
       "2022-07-27    27\n",
       "2022-08-16    28\n",
       "2022-07-28    29\n",
       "2022-06-11    30\n",
       "2022-07-29    31\n",
       "2022-07-18    32\n",
       "2022-07-20    33\n",
       "2022-06-04    34\n",
       "2022-05-29    35\n",
       "2022-08-19    36\n",
       "2022-05-26    37\n",
       "2022-07-21    38\n",
       "2022-06-03    39\n",
       "NaN           -2\n",
       "dtype: int64}])),\n",
       "                ('decisiontreeclassifier',\n",
       "                 DecisionTreeClassifier(random_state=42))])"
      ]
     },
     "execution_count": 25,
     "metadata": {},
     "output_type": "execute_result"
    }
   ],
   "source": [
    "#fit model into training data to get best performing data for model building\n",
    "#X_train, y_train\n",
    "model_reg = make_pipeline(OrdinalEncoder(),DecisionTreeClassifier(random_state=42))\n",
    "model_reg.fit(X_train,y_train)\n",
    "#X_train_over, y_train_over\n",
    "model_over = make_pipeline(OrdinalEncoder(),DecisionTreeClassifier(random_state=42))\n",
    "model_over.fit(X_train_over,y_train_over)\n",
    "#X_train_under, y_train_under\n",
    "model_under = make_pipeline(OrdinalEncoder(),DecisionTreeClassifier(random_state=42))\n",
    "model_under.fit(X_train_under,y_train_under)"
   ]
  },
  {
   "cell_type": "code",
   "execution_count": 26,
   "id": "c2c078e4",
   "metadata": {},
   "outputs": [
    {
     "name": "stdout",
     "output_type": "stream",
     "text": [
      "train score: 1.0\n",
      "test score: 0.9983388704318937\n",
      "train score: 1.0\n",
      "test score: 0.9983388704318937\n",
      "train score: 1.0\n",
      "test score: 1.0\n"
     ]
    }
   ],
   "source": [
    "#get best performing data\n",
    "for model in [model_reg,model_over,model_under]:\n",
    "    #get train score\n",
    "    train_score = model.score(X_train,y_train)\n",
    "    #get test score\n",
    "    test_score = model.score(X_test, y_test)\n",
    "    \n",
    "    print(\"train score:\",train_score)\n",
    "    print(\"test score:\", test_score)"
   ]
  },
  {
   "cell_type": "markdown",
   "id": "8edd3566",
   "metadata": {},
   "source": [
    "To avoid errors and bias we get the best performing model from the resampled data, i choose the model from the oversampled data\n",
    "that conforms to real life scenarios bcs there's no perfect model in real life"
   ]
  },
  {
   "cell_type": "code",
   "execution_count": 27,
   "id": "32961a9a",
   "metadata": {},
   "outputs": [
    {
     "data": {
      "text/plain": [
       "3"
      ]
     },
     "execution_count": 27,
     "metadata": {},
     "output_type": "execute_result"
    }
   ],
   "source": [
    "#get tree depth\n",
    "model_over.named_steps[\"decisiontreeclassifier\"].get_depth()"
   ]
  },
  {
   "cell_type": "code",
   "execution_count": 28,
   "id": "9e5648e7",
   "metadata": {},
   "outputs": [],
   "source": [
    "#Communicate model by getting feature importances\n",
    "features = model_over.named_steps['decisiontreeclassifier'].feature_importances_\n",
    "Feature_Importance = pd.Series(features, index=X_train_over.columns).sort_values()"
   ]
  },
  {
   "cell_type": "code",
   "execution_count": 29,
   "id": "71fdef37",
   "metadata": {},
   "outputs": [
    {
     "data": {
      "text/plain": [
       "Country                    0.000000\n",
       "Age                        0.000000\n",
       "Symptoms                   0.000000\n",
       "Travel_history (Y/N/NA)    0.000000\n",
       "Travel_history_country     0.000000\n",
       "Confirmation_method        0.000000\n",
       "Date_entry                 0.000000\n",
       "Date_confirmation          0.021835\n",
       "Date_last_modified         0.053331\n",
       "Gender                     0.924835\n",
       "dtype: float64"
      ]
     },
     "execution_count": 29,
     "metadata": {},
     "output_type": "execute_result"
    }
   ],
   "source": [
    "Feature_Importance"
   ]
  },
  {
   "cell_type": "code",
   "execution_count": 30,
   "id": "890c2911",
   "metadata": {},
   "outputs": [
    {
     "data": {
      "image/png": "[encoded data removed]",
      "text/plain": [
       "<Figure size 1152x432 with 1 Axes>"
      ]
     },
     "metadata": {
      "needs_background": "light"
     },
     "output_type": "display_data"
    }
   ],
   "source": [
    "#visualize feature importance\n",
    "fig,ax = plt.subplots(figsize=(16,6))\n",
    "Feature_Importance.plot.barh(title=\"Feature Importance\");"
   ]
  },
  {
   "cell_type": "code",
   "execution_count": 31,
   "id": "55b5e871",
   "metadata": {},
   "outputs": [
    {
     "data": {
      "image/png": "[encoded data removed]",
      "text/plain": [
       "<Figure size 432x288 with 2 Axes>"
      ]
     },
     "metadata": {
      "needs_background": "light"
     },
     "output_type": "display_data"
    }
   ],
   "source": [
    "#plot confusion matrix\n",
    "ConfusionMatrixDisplay.from_estimator(model_over, X_test, y_test);"
   ]
  },
  {
   "cell_type": "code",
   "execution_count": 32,
   "id": "d95d1e17",
   "metadata": {},
   "outputs": [
    {
     "name": "stdout",
     "output_type": "stream",
     "text": [
      "              precision    recall  f1-score   support\n",
      "\n",
      "   confirmed       1.00      1.00      1.00       593\n",
      "   suspected       0.90      1.00      0.95         9\n",
      "\n",
      "    accuracy                           1.00       602\n",
      "   macro avg       0.95      1.00      0.97       602\n",
      "weighted avg       1.00      1.00      1.00       602\n",
      "\n"
     ]
    }
   ],
   "source": [
    "#classification report\n",
    "print(classification_report(y_test, model_over.predict(X_test)))"
   ]
  },
  {
   "cell_type": "code",
   "execution_count": null,
   "id": "36ce7a57",
   "metadata": {},
   "outputs": [],
   "source": []
  }
 ],
 "metadata": {
  "kernelspec": {
   "display_name": "Python 3 (ipykernel)",
   "language": "python",
   "name": "python3"
  },
  "language_info": {
   "codemirror_mode": {
    "name": "ipython",
    "version": 3
   },
   "file_extension": ".py",
   "mimetype": "text/x-python",
   "name": "python",
   "nbconvert_exporter": "python",
   "pygments_lexer": "ipython3",
   "version": "3.9.12"
  }
 },
 "nbformat": 4,
 "nbformat_minor": 5
}
